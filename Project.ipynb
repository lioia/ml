{
 "cells": [
  {
   "cell_type": "markdown",
   "id": "5272eb3e-0ea6-48b0-be6c-34bbfa378ef1",
   "metadata": {},
   "source": [
    "#   Extended MNIST\n",
    "\n",
    "The problem is a multi-class classification task to recognize the letters from the Extended MNIST dataset.\n",
    "\n",
    "Three models have been developed:\n",
    "- LeNet: adapted from the original LeNet to handle this task (26 output units and replaced sigmoid with ReLU)\n",
    "- Custom Neural Network\n",
    "- Custom Convolutional Neural Network\n",
    "\n",
    "The custom models have been created using `keras_tuner` to find the best architecture\n",
    "\n",
    "Once the best configuration has been determined, each model has been trained with all the training set and evaluated on the testing set"
   ]
  },
  {
   "cell_type": "markdown",
   "id": "aa1f4ac0",
   "metadata": {},
   "source": [
    "## Initialization\n",
    "\n",
    "The following cell loads and configures basic libraries and the dataset which is split into _training_, _validation_ and _testing_ (60%, 20%, 20%)\n",
    "\n",
    "It creates the sets used by the CNN (by adding another dimension to represent the single channel)  \n",
    "It also creates the sets used by the final model (_training_ + _validation_)\n",
    "\n",
    "Some helper functions are also defined to plot history (and save it to a file), write a `dict` to file (used to save the `json` for the best model found by `keras_tuner`) and to calculate the metrics (loss, accuracy, precision, recall and F1)"
   ]
  },
  {
   "cell_type": "code",
   "execution_count": 10,
   "id": "31e8647c-cc2b-43f6-a1fa-27b4b40a0561",
   "metadata": {},
   "outputs": [
    {
     "name": "stdout",
     "output_type": "stream",
     "text": [
      "Dataset size: 88799; Training size: 53279; Validation size: 17760; Testing size: 17760\n"
     ]
    }
   ],
   "source": [
    "# Import basic libraries\n",
    "import pandas as pd\n",
    "import tensorflow as tf\n",
    "import numpy as np\n",
    "from sklearn.model_selection import train_test_split\n",
    "import keras_tuner as kt\n",
    "import json\n",
    "from sklearn import metrics\n",
    "import seaborn as sn\n",
    "\n",
    "# Set seed\n",
    "np.random.seed(42)\n",
    "tf.random.set_seed(42)\n",
    "\n",
    "# To plot pretty figures\n",
    "%matplotlib inline\n",
    "import matplotlib as mpl\n",
    "import matplotlib.pyplot as plt\n",
    "mpl.rc('axes', labelsize=14)\n",
    "mpl.rc('xtick', labelsize=12)\n",
    "mpl.rc('ytick', labelsize=12)\n",
    "plt.ioff() # disable interactive mode (display figure only if plt.show() is called; not when saving to file)\n",
    "\n",
    "# Read dataset\n",
    "df = pd.read_csv(\"emnist-letters.csv\")\n",
    "\n",
    "# Reshape to images to matrices 28x28 (like an image)\n",
    "X = df.iloc[:,1:].to_numpy().reshape(-1, 28, 28, order=\"F\") # skipping the first column as it is the label\n",
    "y = df.iloc[:,0].to_numpy()-1                               # considering only the first column\n",
    "\n",
    "# Split dataset in training and testing (80% training, 20% testing)\n",
    "X_train, X_test, y_train, y_test = train_test_split(X, y, test_size=0.2, random_state=42)\n",
    "\n",
    "# Split training set in training and validation (75% of 80% in training and 25% of 80% in validation)\n",
    "X_train, X_valid, y_train, y_valid = train_test_split(X_train, y_train, test_size=0.25, random_state=42)\n",
    "\n",
    "# Normalize (to have values between 0 and 1)\n",
    "X_train = X_train.astype(\"float32\") / 255.\n",
    "X_valid = X_valid.astype(\"float32\") / 255.\n",
    "X_test = X_test.astype(\"float32\") / 255.\n",
    "\n",
    "# Reshape with single channel (used by CNN); images are gryscale, so only one channel is needed\n",
    "X_train_cnn = X_train.reshape(-1, 28, 28, 1)\n",
    "X_valid_cnn = X_valid.reshape(-1, 28, 28, 1)\n",
    "X_test_cnn = X_test.reshape(-1, 28, 28, 1)\n",
    "\n",
    "# Create a set with training and validation (used when training the final model, with the number of iteration found by early stopping)\n",
    "X_train_final = np.concatenate((X_train, X_valid))\n",
    "X_train_cnn_final = X_train_final.reshape(-1, 28, 28, 1)\n",
    "y_train_final = np.concatenate((y_train, y_valid))\n",
    "\n",
    "# Dataset is split: 60% in training, 20% in validation and 20% in testing\n",
    "print(f\"Dataset size: {df.shape[0]}; Training size: {X_train.shape[0]}; Validation size: {X_valid.shape[0]}; Testing size: {X_test.shape[0]}\")\n",
    "\n",
    "# Helper function to plot model history (used to determine the number of epochs)\n",
    "def plot_history(history):\n",
    "  pd.DataFrame(history.history).plot(figsize=(8, 5))\n",
    "  plt.grid(True)\n",
    "  plt.gca().set_ylim(0, 1)\n",
    "  plt.show()\n",
    "\n",
    "def save_plot_history(history, name):\n",
    "  pd.DataFrame(history.history).plot(figsize=(8, 5))\n",
    "  plt.grid(True)\n",
    "  plt.gca().set_ylim(0, 1)\n",
    "  plt.savefig(name)\n",
    "\n",
    "def save_best_hp(data, name):\n",
    "  with open(name, 'w') as fp:\n",
    "    json.dump(data, fp, indent=2)\n",
    "\n",
    "def print_metrics(model, X_for_test):\n",
    "  # Evaluate with testing set\n",
    "  predictions = model.predict(X_for_test) # get predictions from model\n",
    "  y_pred_classes = tf.argmax(predictions, axis=1)\n",
    "\n",
    "  loss, accuracy = model.evaluate(X_for_test, y_test) # get test loss and test accuracy\n",
    "\n",
    "  precision = metrics.precision_score(y_test, y_pred_classes, average='weighted')\n",
    "  recall = metrics.recall_score(y_test, y_pred_classes, average='weighted')\n",
    "  f1 = metrics.f1_score(y_test, y_pred_classes, average='weighted')\n",
    "\n",
    "  print('Metrics')\n",
    "  print('Accuracy: ', accuracy)\n",
    "  print('Loss: ', loss)\n",
    "  print('Precision: ', precision)\n",
    "  print('Recall: ', recall)\n",
    "  print (\"Weighted Average F1 Score : \", round(f1, 2));"
   ]
  },
  {
   "cell_type": "code",
   "execution_count": 16,
   "id": "e37a74e2",
   "metadata": {},
   "outputs": [
    {
     "data": {
      "image/png": "[encoded data removed]",
      "text/plain": [
       "<Figure size 640x480 with 1 Axes>"
      ]
     },
     "metadata": {},
     "output_type": "display_data"
    },
    {
     "name": "stdout",
     "output_type": "stream",
     "text": [
      "6\n"
     ]
    }
   ],
   "source": [
    "# Plotting first image to see the dataset\n",
    "plt.imshow(X[0], cmap=\"gray\")\n",
    "plt.axis('off')\n",
    "plt.show()\n",
    "print(y[0])"
   ]
  },
  {
   "cell_type": "markdown",
   "id": "79437303",
   "metadata": {},
   "source": [
    "## LeNet-5\n",
    "\n",
    "Adapted version of LeNet-5 (using ReLU as activation function, and 26 units in output layer)"
   ]
  },
  {
   "cell_type": "code",
   "execution_count": 2,
   "id": "96aa22a2",
   "metadata": {},
   "outputs": [
    {
     "name": "stdout",
     "output_type": "stream",
     "text": [
      "Model: \"sequential\"\n",
      "_________________________________________________________________\n",
      " Layer (type)                Output Shape              Param #   \n",
      "=================================================================\n",
      " conv2d (Conv2D)             (None, 28, 28, 6)         156       \n",
      "                                                                 \n",
      " average_pooling2d (AverageP  (None, 14, 14, 6)        0         \n",
      " ooling2D)                                                       \n",
      "                                                                 \n",
      " conv2d_1 (Conv2D)           (None, 10, 10, 16)        2416      \n",
      "                                                                 \n",
      " average_pooling2d_1 (Averag  (None, 5, 5, 16)         0         \n",
      " ePooling2D)                                                     \n",
      "                                                                 \n",
      " flatten (Flatten)           (None, 400)               0         \n",
      "                                                                 \n",
      " dense (Dense)               (None, 120)               48120     \n",
      "                                                                 \n",
      " dense_1 (Dense)             (None, 84)                10164     \n",
      "                                                                 \n",
      " dense_2 (Dense)             (None, 26)                2210      \n",
      "                                                                 \n",
      "=================================================================\n",
      "Total params: 63,066\n",
      "Trainable params: 63,066\n",
      "Non-trainable params: 0\n",
      "_________________________________________________________________\n"
     ]
    },
    {
     "name": "stderr",
     "output_type": "stream",
     "text": [
      "2024-01-26 14:25:32.555910: I tensorflow/core/platform/cpu_feature_guard.cc:193] This TensorFlow binary is optimized with oneAPI Deep Neural Network Library (oneDNN) to use the following CPU instructions in performance-critical operations:  SSE4.1 SSE4.2 AVX AVX2 FMA\n",
      "To enable them in other operations, rebuild TensorFlow with the appropriate compiler flags.\n"
     ]
    },
    {
     "name": "stdout",
     "output_type": "stream",
     "text": [
      "Epoch 1/50\n",
      "1665/1665 [==============================] - 17s 10ms/step - loss: 0.7414 - accuracy: 0.7723 - val_loss: 0.4222 - val_accuracy: 0.8640\n",
      "Epoch 2/50\n",
      "1665/1665 [==============================] - 16s 10ms/step - loss: 0.3441 - accuracy: 0.8864 - val_loss: 0.3240 - val_accuracy: 0.8939\n",
      "Epoch 3/50\n",
      "1665/1665 [==============================] - 16s 10ms/step - loss: 0.2762 - accuracy: 0.9069 - val_loss: 0.3131 - val_accuracy: 0.9002\n",
      "Epoch 4/50\n",
      "1665/1665 [==============================] - 16s 10ms/step - loss: 0.2373 - accuracy: 0.9193 - val_loss: 0.2541 - val_accuracy: 0.9173\n",
      "Epoch 5/50\n",
      "1665/1665 [==============================] - 16s 9ms/step - loss: 0.2112 - accuracy: 0.9260 - val_loss: 0.2480 - val_accuracy: 0.9211\n",
      "Epoch 6/50\n",
      "1665/1665 [==============================] - 16s 9ms/step - loss: 0.1914 - accuracy: 0.9321 - val_loss: 0.2513 - val_accuracy: 0.9188\n",
      "Epoch 7/50\n",
      "1665/1665 [==============================] - 16s 9ms/step - loss: 0.1760 - accuracy: 0.9367 - val_loss: 0.2383 - val_accuracy: 0.9213\n",
      "Epoch 8/50\n",
      "1665/1665 [==============================] - 18s 11ms/step - loss: 0.1605 - accuracy: 0.9406 - val_loss: 0.2595 - val_accuracy: 0.9162\n",
      "Epoch 9/50\n",
      "1665/1665 [==============================] - 15s 9ms/step - loss: 0.1481 - accuracy: 0.9457 - val_loss: 0.2355 - val_accuracy: 0.9261\n",
      "Epoch 10/50\n",
      "1665/1665 [==============================] - 15s 9ms/step - loss: 0.1380 - accuracy: 0.9485 - val_loss: 0.2475 - val_accuracy: 0.9243\n",
      "Epoch 11/50\n",
      "1665/1665 [==============================] - 16s 9ms/step - loss: 0.1287 - accuracy: 0.9517 - val_loss: 0.2623 - val_accuracy: 0.9197\n",
      "Epoch 12/50\n",
      "1665/1665 [==============================] - 16s 9ms/step - loss: 0.1180 - accuracy: 0.9547 - val_loss: 0.2584 - val_accuracy: 0.9237\n",
      "Epoch 13/50\n",
      "1665/1665 [==============================] - 16s 9ms/step - loss: 0.1122 - accuracy: 0.9559 - val_loss: 0.2480 - val_accuracy: 0.9274\n",
      "Epoch 14/50\n",
      "1665/1665 [==============================] - 16s 9ms/step - loss: 0.1052 - accuracy: 0.9585 - val_loss: 0.2772 - val_accuracy: 0.9232\n",
      "Epoch 15/50\n",
      "1665/1665 [==============================] - 15s 9ms/step - loss: 0.0997 - accuracy: 0.9598 - val_loss: 0.2753 - val_accuracy: 0.9257\n",
      "Epoch 16/50\n",
      "1665/1665 [==============================] - 15s 9ms/step - loss: 0.0944 - accuracy: 0.9624 - val_loss: 0.2847 - val_accuracy: 0.9249\n",
      "Epoch 17/50\n",
      "1665/1665 [==============================] - 15s 9ms/step - loss: 0.0918 - accuracy: 0.9629 - val_loss: 0.2790 - val_accuracy: 0.9273\n",
      "Epoch 18/50\n",
      "1665/1665 [==============================] - 15s 9ms/step - loss: 0.0838 - accuracy: 0.9654 - val_loss: 0.2898 - val_accuracy: 0.9236\n",
      "Epoch 19/50\n",
      "1665/1665 [==============================] - 15s 9ms/step - loss: 0.0830 - accuracy: 0.9663 - val_loss: 0.3168 - val_accuracy: 0.9233\n"
     ]
    },
    {
     "data": {
      "image/png": "[encoded data removed]",
      "text/plain": [
       "<Figure size 800x500 with 1 Axes>"
      ]
     },
     "metadata": {},
     "output_type": "display_data"
    }
   ],
   "source": [
    "lenet = tf.keras.models.Sequential([\n",
    "            tf.keras.layers.Conv2D(filters=6, kernel_size=5, activation='relu', padding='same', input_shape=(28, 28, 1)),\n",
    "            tf.keras.layers.AvgPool2D(pool_size=2, strides=2),\n",
    "            tf.keras.layers.Conv2D(filters=16, kernel_size=5,activation='relu'),\n",
    "            tf.keras.layers.AvgPool2D(pool_size=2, strides=2),\n",
    "            tf.keras.layers.Flatten(),\n",
    "            tf.keras.layers.Dense(120, activation='relu'),\n",
    "            tf.keras.layers.Dense(84, activation='relu'),\n",
    "            tf.keras.layers.Dense(26, activation=\"softmax\")])\n",
    "\n",
    "lenet.compile(loss=\"sparse_categorical_crossentropy\",\n",
    "              optimizer=\"adam\",\n",
    "              metrics=[\"accuracy\"])\n",
    "\n",
    "lenet.summary()\n",
    "\n",
    "history_lenet = lenet.fit(X_train_cnn, y_train, epochs=50,\n",
    "                          validation_data=(X_valid_cnn, y_valid),\n",
    "                          callbacks=[tf.keras.callbacks.EarlyStopping(patience=10)])\n",
    "\n",
    "plot_history(history_lenet)"
   ]
  },
  {
   "cell_type": "code",
   "execution_count": 3,
   "id": "c0cacc26",
   "metadata": {},
   "outputs": [
    {
     "name": "stdout",
     "output_type": "stream",
     "text": [
      "Model: \"sequential_1\"\n",
      "_________________________________________________________________\n",
      " Layer (type)                Output Shape              Param #   \n",
      "=================================================================\n",
      " conv2d_2 (Conv2D)           (None, 28, 28, 6)         156       \n",
      "                                                                 \n",
      " average_pooling2d_2 (Averag  (None, 14, 14, 6)        0         \n",
      " ePooling2D)                                                     \n",
      "                                                                 \n",
      " conv2d_3 (Conv2D)           (None, 10, 10, 16)        2416      \n",
      "                                                                 \n",
      " average_pooling2d_3 (Averag  (None, 5, 5, 16)         0         \n",
      " ePooling2D)                                                     \n",
      "                                                                 \n",
      " flatten_1 (Flatten)         (None, 400)               0         \n",
      "                                                                 \n",
      " dense_3 (Dense)             (None, 120)               48120     \n",
      "                                                                 \n",
      " dense_4 (Dense)             (None, 84)                10164     \n",
      "                                                                 \n",
      " dense_5 (Dense)             (None, 26)                2210      \n",
      "                                                                 \n",
      "=================================================================\n",
      "Total params: 63,066\n",
      "Trainable params: 63,066\n",
      "Non-trainable params: 0\n",
      "_________________________________________________________________\n",
      "Epoch 1/8\n"
     ]
    },
    {
     "name": "stderr",
     "output_type": "stream",
     "text": [
      "2024-02-01 09:53:01.892018: W tensorflow/core/framework/cpu_allocator_impl.cc:82] Allocation of 222778304 exceeds 10% of free system memory.\n"
     ]
    },
    {
     "name": "stdout",
     "output_type": "stream",
     "text": [
      "2220/2220 [==============================] - 15s 6ms/step - loss: 0.6591 - accuracy: 0.7961\n",
      "Epoch 2/8\n",
      "2220/2220 [==============================] - 12s 6ms/step - loss: 0.3088 - accuracy: 0.8987\n",
      "Epoch 3/8\n",
      "2220/2220 [==============================] - 11s 5ms/step - loss: 0.2523 - accuracy: 0.9153\n",
      "Epoch 4/8\n",
      "2220/2220 [==============================] - 14s 6ms/step - loss: 0.2193 - accuracy: 0.9260\n",
      "Epoch 5/8\n",
      "2220/2220 [==============================] - 13s 6ms/step - loss: 0.1961 - accuracy: 0.9326\n",
      "Epoch 6/8\n",
      "2220/2220 [==============================] - 11s 5ms/step - loss: 0.1777 - accuracy: 0.9370\n",
      "Epoch 7/8\n",
      "2220/2220 [==============================] - 13s 6ms/step - loss: 0.1637 - accuracy: 0.9417\n",
      "Epoch 8/8\n",
      "2220/2220 [==============================] - 14s 6ms/step - loss: 0.1497 - accuracy: 0.9458\n"
     ]
    },
    {
     "data": {
      "text/plain": [
       "<keras.callbacks.History at 0x7fd2f047c760>"
      ]
     },
     "execution_count": 3,
     "metadata": {},
     "output_type": "execute_result"
    }
   ],
   "source": [
    "epochs = 8\n",
    "# Retrain on all the training set\n",
    "final_lenet = tf.keras.models.Sequential([\n",
    "            tf.keras.layers.Conv2D(filters=6, kernel_size=5, activation='relu', padding='same', input_shape=(28, 28, 1)),\n",
    "            tf.keras.layers.AvgPool2D(pool_size=2, strides=2),\n",
    "            tf.keras.layers.Conv2D(filters=16, kernel_size=5,activation='relu'),\n",
    "            tf.keras.layers.AvgPool2D(pool_size=2, strides=2),\n",
    "            tf.keras.layers.Flatten(),\n",
    "            tf.keras.layers.Dense(120, activation='relu'),\n",
    "            tf.keras.layers.Dense(84, activation='relu'),\n",
    "            tf.keras.layers.Dense(26, activation=\"softmax\")])\n",
    "\n",
    "final_lenet.compile(loss=\"sparse_categorical_crossentropy\",\n",
    "              optimizer=\"adam\",\n",
    "              metrics=[\"accuracy\"])\n",
    "\n",
    "final_lenet.summary()\n",
    "\n",
    "final_lenet.fit(X_train_cnn_final, y_train_final, epochs=epochs)"
   ]
  },
  {
   "cell_type": "code",
   "execution_count": 11,
   "id": "7dfe5a28",
   "metadata": {},
   "outputs": [
    {
     "name": "stdout",
     "output_type": "stream",
     "text": [
      "555/555 [==============================] - 2s 3ms/step\n",
      "555/555 [==============================] - 2s 3ms/step - loss: 0.2304 - accuracy: 0.9254\n",
      "Metrics\n",
      "Accuracy:  0.9253941178321838\n",
      "Loss:  0.23036052286624908\n",
      "Precision:  0.9261148634444356\n",
      "Recall:  0.9253941441441441\n",
      "Weighted Average F1 Score :  0.93\n"
     ]
    }
   ],
   "source": [
    "print_metrics(final_lenet, X_test_cnn)"
   ]
  },
  {
   "cell_type": "markdown",
   "id": "b78c1e65-d85f-4c71-883f-b3f8e96ca88f",
   "metadata": {},
   "source": [
    "## Custom Neural Network\n",
    "\n"
   ]
  },
  {
   "cell_type": "code",
   "execution_count": 2,
   "id": "f8369f33-57d3-49f1-8940-4709ec348def",
   "metadata": {},
   "outputs": [],
   "source": [
    "def build_model(hp):\n",
    "  model = tf.keras.models.Sequential()\n",
    "  # input layer (flatten images to 1D vector)\n",
    "  model.add(tf.keras.layers.Flatten(input_shape=[28, 28]))\n",
    "\n",
    "  # choose dropout rate in range [0.1, 0.3]\n",
    "  dropoutRate1 = hp.Float('dropoutRate1', min_value=0.1, max_value=0.3, step=0.1)\n",
    "  dropoutRate2 = hp.Float('dropoutRate2', min_value=0.1, max_value=0.3, step=0.1)\n",
    "  dropoutRate3 = hp.Float('dropoutRate3', min_value=0.1, max_value=0.3, step=0.1)\n",
    "  # decide whether to add dropout\n",
    "  if hp.Boolean('dropout'):\n",
    "    model.add(tf.keras.layers.Dropout(rate=dropoutRate1))\n",
    "  \n",
    "  # add hidden layer\n",
    "  model.add(tf.keras.layers.Dense(\n",
    "    units=hp.Int('units1', min_value=50, max_value=300, step=10),\n",
    "    activation=hp.Choice('activation1', ['relu', 'leaky_relu', 'tanh']),\n",
    "  ))\n",
    "\n",
    "  # add second hidden layer if enabled\n",
    "  if hp.Boolean('layer2'):\n",
    "    if hp.Boolean('dropout2'):\n",
    "      model.add(tf.keras.layers.Dropout(rate=dropoutRate2))\n",
    "    model.add(tf.keras.layers.Dense(\n",
    "      units=hp.Int('units2', min_value=20, max_value=100, step=10),\n",
    "      activation=hp.Choice('activation2', ['relu', 'leaky_relu', 'tanh'])\n",
    "    ))\n",
    "\n",
    "    # add third layer if enabled\n",
    "    if hp.Boolean('layer3'):\n",
    "      if hp.Boolean('dropout3'):\n",
    "        model.add(tf.keras.layers.Dropout(rate=dropoutRate3))\n",
    "      model.add(tf.keras.layers.Dense(\n",
    "        units=hp.Int('units3', min_value=10, max_value=50, step=10),\n",
    "        activation=hp.Choice('activation3', ['relu', 'leaky_relu', 'tanh'])\n",
    "      ))\n",
    "\n",
    "  # output layer\n",
    "  model.add(tf.keras.layers.Dense(26, activation='softmax'))\n",
    "  # compile the model using Cross Entropy as Loss and Adam (with default parameters) as the optimizer\n",
    "  model.compile(\n",
    "    loss=\"sparse_categorical_crossentropy\",\n",
    "    optimizer=\"adam\",\n",
    "    metrics=[\"accuracy\"]\n",
    "  )\n",
    "  return model"
   ]
  },
  {
   "cell_type": "code",
   "execution_count": 3,
   "id": "72aada76",
   "metadata": {},
   "outputs": [
    {
     "name": "stdout",
     "output_type": "stream",
     "text": [
      "Trial 254 Complete [00h 03m 14s]\n",
      "val_accuracy: 0.8895270228385925\n",
      "\n",
      "Best val_accuracy So Far: 0.9059121608734131\n",
      "Total elapsed time: 03h 06m 44s\n"
     ]
    }
   ],
   "source": [
    "# Create the tuner\n",
    "tuner = kt.Hyperband(\n",
    "  hypermodel=build_model,\n",
    "  objective='val_accuracy',\n",
    "  overwrite=True,\n",
    "  directory='/tmp/emnist',\n",
    "  project_name='emnist-nn',\n",
    "  seed=42\n",
    ")\n",
    "\n",
    "tuner.search_space_summary()\n",
    "\n",
    "# Search the best NN using training and validation sets\n",
    "tuner.search(X_train, y_train, \n",
    "             validation_data=(X_valid, y_valid),\n",
    "             epochs=50,\n",
    "             callbacks=[tf.keras.callbacks.EarlyStopping(patience=10)])"
   ]
  },
  {
   "cell_type": "code",
   "execution_count": 5,
   "id": "f19d641f",
   "metadata": {},
   "outputs": [
    {
     "name": "stdout",
     "output_type": "stream",
     "text": [
      "{'dropoutRate1': 0.2, 'dropoutRate2': 0.1, 'dropoutRate3': 0.1, 'dropout': True, 'units1': 240, 'activation1': 'relu', 'layer2': True, 'dropout2': True, 'units2': 70, 'activation2': 'relu', 'layer3': False, 'dropout3': True, 'units3': 20, 'activation3': 'leaky_relu', 'tuner/epochs': 100, 'tuner/initial_epoch': 34, 'tuner/bracket': 4, 'tuner/round': 4, 'tuner/trial_id': '0142'}\n"
     ]
    }
   ],
   "source": [
    "# Best hyper-parameters\n",
    "best_hps=tuner.get_best_hyperparameters(num_trials=1)[0]\n",
    "print(best_hps.values)\n",
    "save_best_hp(best_hps.values, 'nn.json') # saving to json file"
   ]
  },
  {
   "cell_type": "code",
   "execution_count": 20,
   "id": "695e0e4c",
   "metadata": {},
   "outputs": [
    {
     "name": "stdout",
     "output_type": "stream",
     "text": [
      "Model: \"sequential_11\"\n",
      "_________________________________________________________________\n"
     ]
    },
    {
     "name": "stdout",
     "output_type": "stream",
     "text": [
      " Layer (type)                Output Shape              Param #   \n",
      "=================================================================\n",
      " flatten_11 (Flatten)        (None, 784)               0         \n",
      "                                                                 \n",
      " dropout_22 (Dropout)        (None, 784)               0         \n",
      "                                                                 \n",
      " dense_33 (Dense)            (None, 240)               188400    \n",
      "                                                                 \n",
      " dropout_23 (Dropout)        (None, 240)               0         \n",
      "                                                                 \n",
      " dense_34 (Dense)            (None, 70)                16870     \n",
      "                                                                 \n",
      " dense_35 (Dense)            (None, 26)                1846      \n",
      "                                                                 \n",
      "=================================================================\n",
      "Total params: 207,116\n",
      "Trainable params: 207,116\n",
      "Non-trainable params: 0\n",
      "_________________________________________________________________\n",
      "None\n",
      "Epoch 1/100\n",
      "1665/1665 [==============================] - 7s 4ms/step - loss: 0.9786 - accuracy: 0.7052 - val_loss: 0.5619 - val_accuracy: 0.8298\n",
      "Epoch 2/100\n",
      "1665/1665 [==============================] - 6s 3ms/step - loss: 0.5511 - accuracy: 0.8261 - val_loss: 0.4256 - val_accuracy: 0.8677\n",
      "Epoch 3/100\n",
      "1665/1665 [==============================] - 5s 3ms/step - loss: 0.4591 - accuracy: 0.8516 - val_loss: 0.3841 - val_accuracy: 0.8819\n",
      "Epoch 4/100\n",
      "1665/1665 [==============================] - 5s 3ms/step - loss: 0.4063 - accuracy: 0.8683 - val_loss: 0.3673 - val_accuracy: 0.8824\n",
      "Epoch 5/100\n",
      "1665/1665 [==============================] - 6s 3ms/step - loss: 0.3697 - accuracy: 0.8788 - val_loss: 0.3509 - val_accuracy: 0.8889\n",
      "Epoch 6/100\n",
      "1665/1665 [==============================] - 6s 4ms/step - loss: 0.3433 - accuracy: 0.8850 - val_loss: 0.3347 - val_accuracy: 0.8943\n",
      "Epoch 7/100\n",
      "1665/1665 [==============================] - 6s 4ms/step - loss: 0.3231 - accuracy: 0.8894 - val_loss: 0.3452 - val_accuracy: 0.8891\n",
      "Epoch 8/100\n",
      "1665/1665 [==============================] - 6s 4ms/step - loss: 0.3082 - accuracy: 0.8959 - val_loss: 0.3630 - val_accuracy: 0.8854\n",
      "Epoch 9/100\n",
      "1665/1665 [==============================] - 6s 4ms/step - loss: 0.2944 - accuracy: 0.8987 - val_loss: 0.3227 - val_accuracy: 0.8971\n",
      "Epoch 10/100\n",
      "1665/1665 [==============================] - 6s 4ms/step - loss: 0.2830 - accuracy: 0.9019 - val_loss: 0.3243 - val_accuracy: 0.8974\n",
      "Epoch 11/100\n",
      "1665/1665 [==============================] - 6s 4ms/step - loss: 0.2723 - accuracy: 0.9071 - val_loss: 0.3255 - val_accuracy: 0.8992\n",
      "Epoch 12/100\n",
      "1665/1665 [==============================] - 6s 4ms/step - loss: 0.2621 - accuracy: 0.9085 - val_loss: 0.3199 - val_accuracy: 0.9008\n",
      "Epoch 13/100\n",
      "1665/1665 [==============================] - 6s 4ms/step - loss: 0.2589 - accuracy: 0.9094 - val_loss: 0.3235 - val_accuracy: 0.9015\n",
      "Epoch 14/100\n",
      "1665/1665 [==============================] - 6s 4ms/step - loss: 0.2511 - accuracy: 0.9108 - val_loss: 0.3260 - val_accuracy: 0.9017\n",
      "Epoch 15/100\n",
      "1665/1665 [==============================] - 6s 4ms/step - loss: 0.2456 - accuracy: 0.9138 - val_loss: 0.3289 - val_accuracy: 0.9025\n",
      "Epoch 16/100\n",
      "1665/1665 [==============================] - 6s 4ms/step - loss: 0.2340 - accuracy: 0.9160 - val_loss: 0.3398 - val_accuracy: 0.8978\n",
      "Epoch 17/100\n",
      "1665/1665 [==============================] - 6s 4ms/step - loss: 0.2349 - accuracy: 0.9154 - val_loss: 0.3325 - val_accuracy: 0.8994\n",
      "Epoch 18/100\n",
      "1665/1665 [==============================] - 6s 4ms/step - loss: 0.2280 - accuracy: 0.9185 - val_loss: 0.3321 - val_accuracy: 0.9012\n",
      "Epoch 19/100\n",
      "1665/1665 [==============================] - 6s 4ms/step - loss: 0.2237 - accuracy: 0.9189 - val_loss: 0.3307 - val_accuracy: 0.9026\n",
      "Epoch 20/100\n",
      "1665/1665 [==============================] - 6s 4ms/step - loss: 0.2184 - accuracy: 0.9212 - val_loss: 0.3489 - val_accuracy: 0.9001\n",
      "Epoch 21/100\n",
      "1665/1665 [==============================] - 6s 4ms/step - loss: 0.2181 - accuracy: 0.9203 - val_loss: 0.3386 - val_accuracy: 0.9010\n",
      "Epoch 22/100\n",
      "1665/1665 [==============================] - 6s 4ms/step - loss: 0.2134 - accuracy: 0.9226 - val_loss: 0.3282 - val_accuracy: 0.9065\n"
     ]
    },
    {
     "data": {
      "image/png": "[encoded data removed]",
      "text/plain": [
       "<Figure size 800x500 with 1 Axes>"
      ]
     },
     "metadata": {},
     "output_type": "display_data"
    }
   ],
   "source": [
    "# Building the best model to determine the number of epochs to train\n",
    "model = tuner.hypermodel.build(best_hps)\n",
    "print(model.summary()) # print the best model\n",
    "history_nn = model.fit(X_train, y_train, \n",
    "                       validation_data=(X_valid, y_valid),\n",
    "                       epochs=100,\n",
    "                       callbacks=[tf.keras.callbacks.EarlyStopping(patience=10)])\n",
    "plot_history(history_nn)\n",
    "save_plot_history(history_nn, 'nn.png')"
   ]
  },
  {
   "cell_type": "code",
   "execution_count": 24,
   "id": "503f5750",
   "metadata": {},
   "outputs": [
    {
     "name": "stdout",
     "output_type": "stream",
     "text": [
      "Model: \"sequential_8\"\n",
      "_________________________________________________________________\n",
      " Layer (type)                Output Shape              Param #   \n",
      "=================================================================\n",
      " flatten_8 (Flatten)         (None, 784)               0         \n",
      "                                                                 \n",
      " dropout_4 (Dropout)         (None, 784)               0         \n",
      "                                                                 \n",
      " dense_24 (Dense)            (None, 240)               188400    \n",
      "                                                                 \n",
      " dropout_5 (Dropout)         (None, 240)               0         \n",
      "                                                                 \n",
      " dense_25 (Dense)            (None, 70)                16870     \n",
      "                                                                 \n",
      " dense_26 (Dense)            (None, 26)                1846      \n",
      "                                                                 \n",
      "=================================================================\n",
      "Total params: 207,116\n",
      "Trainable params: 207,116\n",
      "Non-trainable params: 0\n",
      "_________________________________________________________________\n"
     ]
    },
    {
     "name": "stdout",
     "output_type": "stream",
     "text": [
      "Epoch 1/11\n",
      "2220/2220 [==============================] - 6s 3ms/step - loss: 0.9026 - accuracy: 0.7288\n",
      "Epoch 2/11\n",
      "2220/2220 [==============================] - 6s 3ms/step - loss: 0.5219 - accuracy: 0.8344\n",
      "Epoch 3/11\n",
      "2220/2220 [==============================] - 6s 3ms/step - loss: 0.4384 - accuracy: 0.8587\n",
      "Epoch 4/11\n",
      "2220/2220 [==============================] - 6s 3ms/step - loss: 0.3914 - accuracy: 0.8721\n",
      "Epoch 5/11\n",
      "2220/2220 [==============================] - 6s 3ms/step - loss: 0.3629 - accuracy: 0.8805\n",
      "Epoch 6/11\n",
      "2220/2220 [==============================] - 6s 3ms/step - loss: 0.3388 - accuracy: 0.8872\n",
      "Epoch 7/11\n",
      "2220/2220 [==============================] - 6s 3ms/step - loss: 0.3198 - accuracy: 0.8913\n",
      "Epoch 8/11\n",
      "2220/2220 [==============================] - 6s 3ms/step - loss: 0.3030 - accuracy: 0.8971\n",
      "Epoch 9/11\n",
      "2220/2220 [==============================] - 6s 3ms/step - loss: 0.2944 - accuracy: 0.8986\n",
      "Epoch 10/11\n",
      "2220/2220 [==============================] - 6s 3ms/step - loss: 0.2863 - accuracy: 0.9016\n",
      "Epoch 11/11\n",
      "2220/2220 [==============================] - 6s 3ms/step - loss: 0.2754 - accuracy: 0.9043\n"
     ]
    },
    {
     "data": {
      "text/plain": [
       "<keras.callbacks.History at 0x7fd2fdff4400>"
      ]
     },
     "execution_count": 24,
     "metadata": {},
     "output_type": "execute_result"
    }
   ],
   "source": [
    "epochs = 11\n",
    "\n",
    "# Build final NN\n",
    "nn_final = tf.keras.models.Sequential()\n",
    "nn_final.add(tf.keras.layers.Flatten(input_shape=[28, 28]))\n",
    "nn_final.add(tf.keras.layers.Dropout(rate=0.2))\n",
    "nn_final.add(tf.keras.layers.Dense(240, activation=\"relu\", kernel_initializer=tf.keras.initializers.HeNormal(seed=42)))\n",
    "nn_final.add(tf.keras.layers.Dropout(rate=0.1))\n",
    "nn_final.add(tf.keras.layers.Dense(70, activation=\"relu\", kernel_initializer=tf.keras.initializers.HeNormal(seed=42)))\n",
    "nn_final.add(tf.keras.layers.Dense(26, activation=\"softmax\", kernel_initializer=tf.keras.initializers.HeNormal(seed=42)))\n",
    "\n",
    "nn_final.summary()\n",
    "nn_final.compile(loss=\"sparse_categorical_crossentropy\",\n",
    "              optimizer=\"adam\",\n",
    "              metrics=[\"accuracy\"])\n",
    "nn_final.fit(X_train_final, y_train_final, epochs=epochs)"
   ]
  },
  {
   "cell_type": "code",
   "execution_count": 25,
   "id": "470cf302",
   "metadata": {},
   "outputs": [
    {
     "name": "stdout",
     "output_type": "stream",
     "text": [
      "555/555 [==============================] - 1s 1ms/step\n",
      "555/555 [==============================] - 1s 2ms/step - loss: 0.3291 - accuracy: 0.8976\n",
      "Metrics\n",
      "Accuracy:  0.8976351618766785\n",
      "Loss:  0.32908183336257935\n",
      "Precision:  0.8995000657799\n",
      "Recall:  0.8976351351351352\n",
      "Weighted Average F1 Score :  0.9\n"
     ]
    }
   ],
   "source": [
    "print_metrics(nn_final, X_test)"
   ]
  },
  {
   "cell_type": "markdown",
   "id": "a20ad202",
   "metadata": {
    "jp-MarkdownHeadingCollapsed": true
   },
   "source": [
    "## Convolutional Neural Network (custom)"
   ]
  },
  {
   "cell_type": "code",
   "execution_count": 7,
   "id": "e3ec730a",
   "metadata": {},
   "outputs": [],
   "source": [
    "def build_cnn_model(hp):\n",
    "  model = tf.keras.models.Sequential()\n",
    "  \n",
    "  # determine the best parameters for the first convolutional layer\n",
    "  cnn_activation_1 = hp.Choice('cnn_act_1', ['relu', 'leaky_relu', 'tanh'])\n",
    "  filters1 = hp.Int('filters1', min_value=1, max_value=10, step=1)\n",
    "  kernel1 = hp.Int('size1', min_value=1, max_value=9, step=2)\n",
    "  model.add(tf.keras.layers.Conv2D(filters=filters1, kernel_size=kernel1, activation=cnn_activation_1, padding='same', input_shape=(28, 28, 1)))\n",
    "\n",
    "  # determine the stride (and window size) for the Max/Avg pooling layer\n",
    "  stride1 = hp.Int('stride1', min_value=2, max_value=4, step=2)\n",
    "  if hp.Boolean('avg1'): # choose between max or avg pooling\n",
    "    model.add(tf.keras.layers.AveragePooling2D(pool_size=stride1, strides=stride1))\n",
    "  else:\n",
    "    model.add(tf.keras.layers.MaxPooling2D(pool_size=stride1, strides=stride1))\n",
    "  \n",
    "  # add second convolutional layer if enabled\n",
    "  if hp.Boolean('hidden1'):\n",
    "    cnn_activation_2 = hp.Choice('cnn_act_2', ['relu', 'leaky_relu', 'tanh'])\n",
    "    filters2 = hp.Int('filters2', min_value=1, max_value=10, step=1)\n",
    "    kernel2 = hp.Int('size2', min_value=1, max_value=9, step=2)\n",
    "    model.add(tf.keras.layers.Conv2D(filters=filters2, kernel_size=kernel2, activation=cnn_activation_2, padding='same'))\n",
    "\n",
    "    stride2 = hp.Int('stride2', min_value=2, max_value=4, step=2)\n",
    "    if hp.Boolean('avg2'): # choose between max or avg pooling\n",
    "      model.add(tf.keras.layers.AveragePooling2D(pool_size=stride2, strides=stride2))\n",
    "    else:\n",
    "      model.add(tf.keras.layers.MaxPooling2D(pool_size=stride2, strides=stride2))\n",
    "\n",
    "    # add third convolutional layer if enabled\n",
    "    if hp.Boolean('hidden2'):\n",
    "      cnn_activation_3 = hp.Choice('cnn_act_3', ['relu', 'leaky_relu', 'tanh'])\n",
    "      filters3 = hp.Int('filters3', min_value=1, max_value=10, step=1)\n",
    "      kernel3 = hp.Int('size3', min_value=1, max_value=9, step=2)\n",
    "      model.add(tf.keras.layers.Conv2D(filters=filters3, kernel_size=kernel3, activation=cnn_activation_3, padding='same'))\n",
    "\n",
    "      stride3 = hp.Int('stride3', min_value=2, max_value=4, step=2)\n",
    "      if hp.Boolean('avg3'): # choose between max or avg pooling\n",
    "        model.add(tf.keras.layers.AveragePooling2D(pool_size=stride3, strides=stride3))\n",
    "      else:\n",
    "        model.add(tf.keras.layers.MaxPooling2D(pool_size=stride3, strides=stride3))\n",
    "  \n",
    "  # flatten to 1D vector, so a dense layer can be used\n",
    "  model.add(tf.keras.layers.Flatten())\n",
    "  # add dense layer if enabled\n",
    "  if hp.Boolean('dense'):\n",
    "    model.add(tf.keras.layers.Dense(\n",
    "      units=hp.Int('units', min_value=30, max_value=100, step=10),\n",
    "      activation=hp.Choice('act_dense', ['relu', 'leaky_relu', 'tanh']),\n",
    "    ))\n",
    "    # add second dense layer if enabled\n",
    "    if hp.Boolean('dense2'):\n",
    "      model.add(tf.keras.layers.Dense(\n",
    "        units=hp.Int('units2', min_value=30, max_value=100, step=10),\n",
    "        activation=hp.Choice('act_dense2', ['relu', 'leaky_relu', 'tanh']),\n",
    "      ))\n",
    "  # output layer (softmax with 26 outputs)\n",
    "  model.add(tf.keras.layers.Dense(26, activation='softmax'))\n",
    "\n",
    "  # compile the model\n",
    "  model.compile(\n",
    "    loss=\"sparse_categorical_crossentropy\",\n",
    "    optimizer=\"adam\",\n",
    "    metrics=[\"accuracy\"]\n",
    "  )\n",
    "  return model"
   ]
  },
  {
   "cell_type": "code",
   "execution_count": 8,
   "id": "a4ed9d7c",
   "metadata": {},
   "outputs": [
    {
     "name": "stdout",
     "output_type": "stream",
     "text": [
      "Trial 220 Complete [00h 12m 00s]\n",
      "val_accuracy: 0.7275900840759277\n",
      "\n",
      "Best val_accuracy So Far: 0.919988751411438\n",
      "Total elapsed time: 04h 43m 34s\n"
     ]
    }
   ],
   "source": [
    "# create the tuner\n",
    "cnn_tuner = kt.Hyperband(\n",
    "  hypermodel=build_cnn_model,\n",
    "  objective='val_accuracy',\n",
    "  overwrite=True,\n",
    "  directory='/tmp/emnist-tuner',\n",
    "  project_name='emnist-cnn',\n",
    "  seed=42\n",
    ")\n",
    "\n",
    "cnn_tuner.search_space_summary()\n",
    "\n",
    "# search the best model\n",
    "cnn_tuner.search(X_train_cnn, y_train,\n",
    "                 validation_data=(X_valid_cnn, y_valid),\n",
    "                 epochs=50,\n",
    "                 callbacks=[tf.keras.callbacks.EarlyStopping(patience=10)])"
   ]
  },
  {
   "cell_type": "code",
   "execution_count": 9,
   "id": "537f92de",
   "metadata": {},
   "outputs": [
    {
     "name": "stdout",
     "output_type": "stream",
     "text": [
      "{'cnn_act_1': 'relu', 'filters1': 10, 'size1': 9, 'stride1': 2, 'avg1': False, 'hidden1': False, 'dense': True, 'units': 90, 'act_dense': 'relu', 'dense2': True, 'cnn_act_2': 'tanh', 'filters2': 6, 'size2': 1, 'stride2': 4, 'avg2': False, 'hidden2': True, 'units2': 100, 'act_dense2': 'leaky_relu', 'tuner/epochs': 12, 'tuner/initial_epoch': 4, 'tuner/bracket': 4, 'tuner/round': 2, 'tuner/trial_id': '0098', 'cnn_act_3': 'relu', 'filters3': 8, 'size3': 3, 'stride3': 4, 'avg3': False}\n"
     ]
    }
   ],
   "source": [
    "# Best hyper-parameters\n",
    "best_hps_cnn = cnn_tuner.get_best_hyperparameters(num_trials=1)[0]\n",
    "print(best_hps_cnn.values)\n",
    "save_best_hp(best_hps_cnn.values, 'cnn.json') # save hyper-parameters to cnn.json"
   ]
  },
  {
   "cell_type": "code",
   "execution_count": 12,
   "id": "709c4442",
   "metadata": {},
   "outputs": [
    {
     "name": "stdout",
     "output_type": "stream",
     "text": [
      "Model: \"sequential_2\"\n",
      "_________________________________________________________________\n",
      " Layer (type)                Output Shape              Param #   \n",
      "=================================================================\n",
      " conv2d_2 (Conv2D)           (None, 28, 28, 10)        820       \n",
      "                                                                 \n",
      " max_pooling2d_2 (MaxPooling  (None, 14, 14, 10)       0         \n",
      " 2D)                                                             \n",
      "                                                                 \n",
      " flatten_2 (Flatten)         (None, 1960)              0         \n",
      "                                                                 \n",
      " dense_4 (Dense)             (None, 90)                176490    \n",
      "                                                                 \n",
      " dense_5 (Dense)             (None, 100)               9100      \n",
      "                                                                 \n",
      " dense_6 (Dense)             (None, 26)                2626      \n",
      "                                                                 \n",
      "=================================================================\n",
      "Total params: 189,036\n",
      "Trainable params: 189,036\n",
      "Non-trainable params: 0\n",
      "_________________________________________________________________\n",
      "None\n",
      "Epoch 1/100\n",
      "1665/1665 [==============================] - 19s 11ms/step - loss: 0.7106 - accuracy: 0.7797 - val_loss: 0.4093 - val_accuracy: 0.8694\n",
      "Epoch 2/100\n",
      "1665/1665 [==============================] - 16s 10ms/step - loss: 0.3317 - accuracy: 0.8906 - val_loss: 0.3147 - val_accuracy: 0.8982\n",
      "Epoch 3/100\n",
      "1665/1665 [==============================] - 16s 10ms/step - loss: 0.2653 - accuracy: 0.9108 - val_loss: 0.3753 - val_accuracy: 0.8784\n",
      "Epoch 4/100\n",
      "1665/1665 [==============================] - 16s 10ms/step - loss: 0.2271 - accuracy: 0.9225 - val_loss: 0.2767 - val_accuracy: 0.9118\n",
      "Epoch 5/100\n",
      "1665/1665 [==============================] - 16s 10ms/step - loss: 0.1997 - accuracy: 0.9307 - val_loss: 0.2779 - val_accuracy: 0.9137\n",
      "Epoch 6/100\n",
      "1665/1665 [==============================] - 16s 10ms/step - loss: 0.1786 - accuracy: 0.9356 - val_loss: 0.2896 - val_accuracy: 0.9132\n",
      "Epoch 7/100\n",
      "1665/1665 [==============================] - 16s 9ms/step - loss: 0.1569 - accuracy: 0.9427 - val_loss: 0.2877 - val_accuracy: 0.9159\n",
      "Epoch 8/100\n",
      "1665/1665 [==============================] - 16s 10ms/step - loss: 0.1421 - accuracy: 0.9474 - val_loss: 0.3097 - val_accuracy: 0.9081\n",
      "Epoch 9/100\n",
      "1665/1665 [==============================] - 16s 10ms/step - loss: 0.1311 - accuracy: 0.9510 - val_loss: 0.3152 - val_accuracy: 0.9109\n",
      "Epoch 10/100\n",
      "1665/1665 [==============================] - 16s 10ms/step - loss: 0.1211 - accuracy: 0.9527 - val_loss: 0.3031 - val_accuracy: 0.9160\n",
      "Epoch 11/100\n",
      "1665/1665 [==============================] - 16s 10ms/step - loss: 0.1084 - accuracy: 0.9572 - val_loss: 0.3241 - val_accuracy: 0.9113\n",
      "Epoch 12/100\n",
      "1665/1665 [==============================] - 16s 9ms/step - loss: 0.1014 - accuracy: 0.9602 - val_loss: 0.3648 - val_accuracy: 0.9155\n",
      "Epoch 13/100\n",
      "1665/1665 [==============================] - 15s 9ms/step - loss: 0.0957 - accuracy: 0.9619 - val_loss: 0.3711 - val_accuracy: 0.9088\n",
      "Epoch 14/100\n",
      "1665/1665 [==============================] - 15s 9ms/step - loss: 0.0905 - accuracy: 0.9643 - val_loss: 0.3700 - val_accuracy: 0.9122\n"
     ]
    },
    {
     "data": {
      "image/png": "[encoded data removed]",
      "text/plain": [
       "<Figure size 800x500 with 1 Axes>"
      ]
     },
     "metadata": {},
     "output_type": "display_data"
    }
   ],
   "source": [
    "# build model with best hyper parameter to determine the number of epochs\n",
    "cnn_model = cnn_tuner.hypermodel.build(best_hps_cnn)\n",
    "print(cnn_model.summary())\n",
    "history_cnn = cnn_model.fit(X_train_cnn, y_train, \n",
    "                       validation_data=(X_valid_cnn, y_valid),\n",
    "                       epochs=100,\n",
    "                       callbacks=[tf.keras.callbacks.EarlyStopping(patience=10)])\n",
    "plot_history(history_cnn)\n",
    "save_plot_history(history_cnn, 'cnn.png')"
   ]
  },
  {
   "cell_type": "code",
   "execution_count": 23,
   "id": "dffeadaf",
   "metadata": {},
   "outputs": [
    {
     "name": "stdout",
     "output_type": "stream",
     "text": [
      "Model: \"sequential_7\"\n",
      "_________________________________________________________________\n",
      " Layer (type)                Output Shape              Param #   \n",
      "=================================================================\n",
      " conv2d_7 (Conv2D)           (None, 28, 28, 10)        820       \n",
      "                                                                 \n",
      " max_pooling2d_3 (MaxPooling  (None, 14, 14, 10)       0         \n",
      " 2D)                                                             \n",
      "                                                                 \n",
      " flatten_7 (Flatten)         (None, 1960)              0         \n",
      "                                                                 \n",
      " dense_21 (Dense)            (None, 90)                176490    \n",
      "                                                                 \n",
      " dense_22 (Dense)            (None, 100)               9100      \n",
      "                                                                 \n",
      " dense_23 (Dense)            (None, 26)                2626      \n",
      "                                                                 \n",
      "=================================================================\n",
      "Total params: 189,036\n",
      "Trainable params: 189,036\n",
      "Non-trainable params: 0\n",
      "_________________________________________________________________\n",
      "Epoch 1/4\n",
      "2220/2220 [==============================] - 18s 8ms/step - loss: 0.5811 - accuracy: 0.8180\n",
      "Epoch 2/4\n",
      "2220/2220 [==============================] - 19s 8ms/step - loss: 0.2951 - accuracy: 0.9017\n",
      "Epoch 3/4\n",
      "2220/2220 [==============================] - 19s 9ms/step - loss: 0.2409 - accuracy: 0.9172\n",
      "Epoch 4/4\n",
      "2220/2220 [==============================] - 18s 8ms/step - loss: 0.2072 - accuracy: 0.9276\n"
     ]
    },
    {
     "data": {
      "text/plain": [
       "<keras.callbacks.History at 0x7fd2fdf189a0>"
      ]
     },
     "execution_count": 23,
     "metadata": {},
     "output_type": "execute_result"
    }
   ],
   "source": [
    "epochs = 4\n",
    "# Retrain on all the training set\n",
    "final_cnn = tf.keras.models.Sequential([\n",
    "            tf.keras.layers.Conv2D(filters=10, kernel_size=9, activation='relu', padding='same', input_shape=(28, 28, 1), kernel_initializer=tf.keras.initializers.HeNormal(seed=42)),\n",
    "            tf.keras.layers.MaxPooling2D(pool_size=2, strides=2),\n",
    "            tf.keras.layers.Flatten(),\n",
    "            tf.keras.layers.Dense(90, activation='relu', kernel_initializer=tf.keras.initializers.HeNormal(seed=42)),\n",
    "            tf.keras.layers.Dense(100, activation='leaky_relu', kernel_initializer=tf.keras.initializers.HeNormal(seed=42)),\n",
    "            tf.keras.layers.Dense(26, activation=\"softmax\", kernel_initializer=tf.keras.initializers.HeNormal(seed=42))])\n",
    "\n",
    "final_cnn.compile(loss=\"sparse_categorical_crossentropy\",\n",
    "              optimizer=\"adam\",\n",
    "              metrics=[\"accuracy\"])\n",
    "\n",
    "final_cnn.summary()\n",
    "\n",
    "final_cnn.fit(X_train_cnn_final, y_train_final, epochs=epochs)"
   ]
  },
  {
   "cell_type": "code",
   "execution_count": 22,
   "id": "8a960143",
   "metadata": {},
   "outputs": [
    {
     "name": "stdout",
     "output_type": "stream",
     "text": [
      "555/555 [==============================] - 2s 3ms/step\n",
      "555/555 [==============================] - 2s 3ms/step - loss: 0.2722 - accuracy: 0.9108\n",
      "Metrics\n",
      "Accuracy:  0.9107545018196106\n",
      "Loss:  0.2721595764160156\n",
      "Precision:  0.9123782636683505\n",
      "Recall:  0.9107545045045045\n",
      "Weighted Average F1 Score :  0.91\n"
     ]
    }
   ],
   "source": [
    "print_metrics(final_cnn, X_test_cnn)"
   ]
  },
  {
   "cell_type": "markdown",
   "id": "10111985",
   "metadata": {},
   "source": [
    "## Results\n",
    "\n",
    "- LeNet:\n",
    "  - Accuracy: 0.92\n",
    "  - Loss: 0.23\n",
    "  - Precision: 0.92\n",
    "  - Recall: 0.92\n",
    "  - Weighted Average F1 Score : 0.93\n",
    "- Custom Neural Network:\n",
    "  - Accuracy: 0.89\n",
    "  - Loss: 0.32\n",
    "  - Precision: 0.89\n",
    "  - Recall: 0.89\n",
    "  - Weighted Average F1 Score : 0.9\n",
    "- Custom Convolutional Neural Network:\n",
    "  - Accuracy: 0.91\n",
    "  - Loss: 0.27\n",
    "  - Precision: 0.91\n",
    "  - Recall: 0.91\n",
    "  - Weighted Average F1 Score : 0.91"
   ]
  }
 ],
 "metadata": {
  "kernelspec": {
   "display_name": "Python 3 (ipykernel)",
   "language": "python",
   "name": "python3"
  },
  "language_info": {
   "codemirror_mode": {
    "name": "ipython",
    "version": 3
   },
   "file_extension": ".py",
   "mimetype": "text/x-python",
   "name": "python",
   "nbconvert_exporter": "python",
   "pygments_lexer": "ipython3",
   "version": "3.10.8"
  }
 },
 "nbformat": 4,
 "nbformat_minor": 5
}
